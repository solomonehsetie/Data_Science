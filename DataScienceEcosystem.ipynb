{
 "cells": [
  {
   "cell_type": "markdown",
   "metadata": {},
   "source": [
    "<center>\n",
    "    <img src=\"https://cf-courses-data.s3.us.cloud-object-storage.appdomain.cloud/IBMDeveloperSkillsNetwork-DS0105EN-SkillsNetwork/labs/Module2/images/SN_web_lightmode.png\" width=\"300\" alt=\"cognitiveclass.ai logo\">\n",
    "</center>\n"
   ]
  },
  {
   "cell_type": "markdown",
   "metadata": {},
   "source": [
    "#### Add your code below following the instructions given in the course\n"
   ]
  },
  {
   "cell_type": "markdown",
   "metadata": {},
   "source": [
    "# Data Science Tools and Ecosystem"
   ]
  },
  {
   "cell_type": "markdown",
   "metadata": {},
   "source": [
    "In this notebook, Data Science Tools and Ecosystem are summarized."
   ]
  },
  {
   "cell_type": "markdown",
   "metadata": {},
   "source": [
    "__Objectives:__\n",
    "* List popular languages for Data Science\n",
    "* List commonly used libraries for Data Science\n",
    "* Being familiar with Jupyter Notebook\n",
    "* Creating your own Jupyter Notebook and training"
   ]
  },
  {
   "cell_type": "markdown",
   "metadata": {},
   "source": [
    "Some of the popular languages that Data Scientists use are:\n",
    "1. Python \n",
    "2. R\n",
    "3. java\n",
    "4. C++\n",
    "    "
   ]
  },
  {
   "cell_type": "markdown",
   "metadata": {},
   "source": [
    "Some of the commonly used libraries used by Data Scientists include:\n",
    "1. TensorFlow\n",
    "2. Pytorch\n",
    "3. scikit-learn"
   ]
  },
  {
   "cell_type": "markdown",
   "metadata": {},
   "source": [
    "| Data Science Tools |\n",
    "|--------|\n",
    "|TensorFlow|\n",
    "|Apache Spark|\n",
    "|RStudio|\n",
    "\n",
    "\n",
    "\n"
   ]
  },
  {
   "cell_type": "markdown",
   "metadata": {},
   "source": [
    "### Below are a few examples of evaluating arithmetic expressions in Python"
   ]
  },
  {
   "cell_type": "code",
   "execution_count": 1,
   "metadata": {
    "tags": []
   },
   "outputs": [
    {
     "data": {
      "text/plain": [
       "17"
      ]
     },
     "execution_count": 1,
     "metadata": {},
     "output_type": "execute_result"
    }
   ],
   "source": [
    "# This a simple arithmetic expression to mutiply then add integers\n",
    "(3*4)+5\n",
    "\n"
   ]
  },
  {
   "cell_type": "code",
   "execution_count": 12,
   "metadata": {
    "tags": []
   },
   "outputs": [
    {
     "name": "stdout",
     "output_type": "stream",
     "text": [
      "The value of hours: 3\n",
      "The remainder minutes: 20\n",
      "Standard format of the time :  03:20:00\n"
     ]
    }
   ],
   "source": [
    "# This will convert 200 minutes to hours by diving by 60\n",
    "# 1 hour <- 60 minutes\n",
    "# method one\n",
    "# import datetime \n",
    "# def convert(m):\n",
    "#     return (datetime.timedelta(minutes = m))\n",
    "# convert(200)\n",
    "# method two\n",
    "# import time\n",
    "# m = 200\n",
    "# time_format = time.strftime(\"%H:%M:%S\", time.gmtime(m))\n",
    "# print(time_format)\n",
    "# method three\n",
    "# def convert_to_preferred_format(sec):\n",
    "#    sec = sec % (24 * 3600)\n",
    "#    hour = sec // 3600\n",
    "#    sec %= 3600\n",
    "#    min = sec // 60\n",
    "#    sec %= 60\n",
    "#    print(\"seconds value in hours:\",hour)\n",
    "#    print(\"seconds value in minutes:\",min)\n",
    "#    return \"%02d:%02d:%02d\" % (hour, min, sec) \n",
    "# n = 12000\n",
    "# print(\"Time in preferred format :-\",convert_to_preferred_format(n))\n",
    "# method four\n",
    "def convert(min):\n",
    "    min = min % (24 * 60)\n",
    "    hour = min // 60\n",
    "    min %= 60\n",
    "    sec = min * 60\n",
    "    sec = sec % 60\n",
    "    print(\"The value of hours:\",hour)\n",
    "    print(\"The remainder minutes:\",min)\n",
    "    return \"%02d:%02d:%02d\" % (hour, min, sec) \n",
    "n = 200\n",
    "print(\"Standard format of the time : \",convert(n))"
   ]
  },
  {
   "cell_type": "markdown",
   "metadata": {},
   "source": [
    "## Author\n",
    "Solomon Eshetie\n"
   ]
  },
  {
   "cell_type": "code",
   "execution_count": null,
   "metadata": {},
   "outputs": [],
   "source": []
  }
 ],
 "metadata": {
  "kernelspec": {
   "display_name": "Python",
   "language": "python",
   "name": "conda-env-python-py"
  },
  "language_info": {
   "codemirror_mode": {
    "name": "ipython",
    "version": 3
   },
   "file_extension": ".py",
   "mimetype": "text/x-python",
   "name": "python",
   "nbconvert_exporter": "python",
   "pygments_lexer": "ipython3",
   "version": "3.7.12"
  }
 },
 "nbformat": 4,
 "nbformat_minor": 4
}
